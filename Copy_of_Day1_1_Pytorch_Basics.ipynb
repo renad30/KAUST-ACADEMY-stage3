{
  "cells": [
    {
      "cell_type": "markdown",
      "metadata": {
        "id": "view-in-github",
        "colab_type": "text"
      },
      "source": [
        "<a href=\"https://colab.research.google.com/github/renad30/KAUST-ACADEMY-stage3/blob/main/Copy_of_Day1_1_Pytorch_Basics.ipynb\" target=\"_parent\"><img src=\"https://colab.research.google.com/assets/colab-badge.svg\" alt=\"Open In Colab\"/></a>"
      ]
    },
    {
      "cell_type": "markdown",
      "metadata": {
        "id": "is9Eitsj8XKB"
      },
      "source": [
        "![image.png](https://i.imgur.com/a3uAqnb.png)"
      ]
    },
    {
      "cell_type": "markdown",
      "metadata": {
        "id": "EkYrj6He8XKG"
      },
      "source": [
        "# Pytorch Basics\n",
        "---"
      ]
    },
    {
      "cell_type": "markdown",
      "metadata": {
        "id": "dDtmwiFE8XKH"
      },
      "source": [
        "# **📌 How Data is Represented in Deep Learning?**\n",
        "\n",
        "Deep learning models process data in the form of **tensors** (multi-dimensional arrays).  \n",
        "The shape of the tensor depends on the type of data being used.\n",
        "\n",
        "## **🔹 1️⃣ Tabular Data (Structured Data)**\n",
        "- **Shape:** `(batch_size, features)`\n",
        "- Each **row** is a sample, and each **column** is a feature.\n",
        "- **Handled by:** `nn.Linear` (Fully Connected Layers).\n",
        "\n",
        "## **🔹 2️⃣ Image Data (Computer Vision)**\n",
        "- **Shape:** `(batch_size, channels, height, width)`\n",
        "  - **RGB Image:** `channels = 3` (Red, Green, Blue).\n",
        "  - **Grayscale Image:** `channels = 1` (sometimes omitted).\n",
        "- **Handled by:** `nn.Conv2d` (Convolutional Layers).\n",
        "\n",
        "| **Data Type** | **Tensor Shape** | **Handled by** |\n",
        "|--------------|-----------------|---------------|\n",
        "| **Tabular Data** | `(batch_size, features)` | `nn.Linear` |\n",
        "| **Image Data** | `(batch_size, channels, height, width)` | `nn.Conv2d` |\n",
        "\n",
        "✅ Each data type has a specific tensor representation and requires different processing techniques.\n"
      ]
    },
    {
      "cell_type": "markdown",
      "metadata": {
        "id": "gZSQb3fs8XKI"
      },
      "source": [
        "# **📌 How to Change the Dimensions in PyTorch?**\n",
        "\n",
        "Manipulating tensor shapes is essential in deep learning. PyTorch provides several functions to modify tensor dimensions.\n",
        "\n",
        "## **🔹 1️⃣ Flatten**\n",
        "- Converts **any shape** to `(batch_size, features)`.\n",
        "- **Example:**  \n",
        "  `(batch_size, channels, height, width) → (batch_size, features)`\n",
        "\n",
        "## **🔹 2️⃣ Squeeze**\n",
        "- **Removes dimensions** with size `1`.\n",
        "- **Example:**  \n",
        "  `(1, 32, 3, 28, 28) → (32, 3, 28, 28)`\n",
        "\n",
        "## **🔹 3️⃣ Unsqueeze**\n",
        "- **Adds a dimension** with size `1` at a specified position.\n",
        "- **Example:**  \n",
        "  `(3, 28, 28) → (1, 3, 28, 28)`\n",
        "\n",
        "## **🔹 4️⃣ Permute**\n",
        "- **Reorders the dimensions** of a tensor by specifying the **new order of indices**.\n",
        "- **Example:**  \n",
        "  `(32, 28, 28, 3) → permute(0, 3, 1, 2) → (32, 3, 28, 28)`\n",
        "\n",
        "## **🔹 5️⃣ View (works similar to reshape)**\n",
        "- **Reshapes a tensor freely** while maintaining the same number of elements.\n",
        "- **Example:**  \n",
        "  `(32, 28, 28, 3) → view(-1, 28*28*3) → `(32, 28*28*3)`\n",
        "\n",
        "| **Operation** | **Function** | **Purpose** | **Example Transformation** |\n",
        "|--------------|-------------|-------------|----------------------------|\n",
        "| **Flatten** | `.flatten()` | Convert tensor to (batch, features) | `(32, 3, 28, 28) → (32, 3*28*28)` |\n",
        "| **Squeeze** | `.squeeze()` | Remove dims of size 1 | `(1, 3, 28, 28) → (3, 28, 28)` |\n",
        "| **Unsqueeze** | `.unsqueeze(dim)` | Add a dim of size 1 | `(3, 28, 28) → (1, 3, 28, 28)` |\n",
        "| **Permute** | `.permute(dims)` | Change order of dimensions | `(32, 28, 28, 3) → (32, 3, 28, 28)` |\n",
        "| **View** | `.view(shape)` | Reshape freely | `(32, 28, 28, 3) → (32, 28*28*3)` |\n"
      ]
    },
    {
      "cell_type": "code",
      "execution_count": null,
      "metadata": {
        "execution": {
          "iopub.execute_input": "2025-02-01T13:52:26.524571Z",
          "iopub.status.busy": "2025-02-01T13:52:26.524183Z",
          "iopub.status.idle": "2025-02-01T13:52:30.375828Z",
          "shell.execute_reply": "2025-02-01T13:52:30.374699Z",
          "shell.execute_reply.started": "2025-02-01T13:52:26.524542Z"
        },
        "trusted": true,
        "id": "h8M83e3M8XKK",
        "outputId": "da6545fa-2e9e-4a3e-bf7c-c71d8cddbe3c",
        "colab": {
          "base_uri": "https://localhost:8080/"
        }
      },
      "outputs": [
        {
          "output_type": "stream",
          "name": "stdout",
          "text": [
            "Flatten: torch.Size([32, 2352])\n",
            "Squeeze: torch.Size([3, 28, 28])\n",
            "Unsqueeze: torch.Size([1, 3, 28, 28])\n",
            "Permute: torch.Size([32, 3, 28, 28])\n",
            "View: torch.Size([32, 2352])\n"
          ]
        }
      ],
      "source": [
        "import torch\n",
        "\n",
        "# 1️⃣ Flatten - Convert any shape to (batch_size, features) #MY NOTE: (input,output)\n",
        "x = torch.randn(32, 3, 28, 28)\n",
        "x_flat = x.flatten(start_dim=1) # MY NOTE: start with dim 1 for multplication\n",
        "print(\"Flatten:\", x_flat.shape)  # (32, 2352) , MY NOTE : 38*28*28\n",
        "\n",
        "# 2️⃣ Squeeze - Remove dimensions with size 1\n",
        "x = torch.randn(1, 3, 28, 28)\n",
        "x_sq = x.squeeze() # MY NOTE: we want to delete the 1's which is in index 0 so by defult\n",
        "print(\"Squeeze:\", x_sq.shape)  # (3, 28, 28)\n",
        "\n",
        "# 3️⃣ Unsqueeze - Add a new dimension of size 1\n",
        "x = torch.randn(3, 28, 28)\n",
        "x_unsq = x.unsqueeze(0)\n",
        "print(\"Unsqueeze:\", x_unsq.shape)  # (1, 3, 28, 28)\n",
        "\n",
        "# 4️⃣ Permute - Reorder dimensions\n",
        "x = torch.randn(32, 28, 28, 3)  # (batch, height, width, channels)\n",
        "x_perm = x.permute(0, 3, 1, 2)  # (batch, channels, height, width), MY NOTE : PYTORCH DEFINES THE PARAMETERS IN THIS ORDER\n",
        "print(\"Permute:\", x_perm.shape)  # (32, 3, 28, 28)\n",
        "\n",
        "# 5️⃣ View - Reshape freely while keeping same number of elements\n",
        "x = torch.randn(32, 28, 28, 3)\n",
        "x_view = x.view(32, -1)  # Flatten all except batch\n",
        "print(\"View:\", x_view.shape)  # (32, 28*28*3)\n"
      ]
    },
    {
      "cell_type": "markdown",
      "metadata": {
        "id": "wVQtitbp8XKM"
      },
      "source": [
        "### 🔹 Changing Data Type or Moving Data/Model to CPU/GPU  \n",
        "\n",
        "PyTorch allows you to **change the datatype** of a tensor and **move it between CPU and GPU** using `.to()`.  \n",
        "\n",
        "---\n",
        "\n",
        "### ✅ **Change Datatype**\n",
        "Use `.to(dtype)` to convert a tensor's data type."
      ]
    },
    {
      "cell_type": "code",
      "execution_count": null,
      "metadata": {
        "execution": {
          "iopub.execute_input": "2025-02-01T13:52:30.377553Z",
          "iopub.status.busy": "2025-02-01T13:52:30.377089Z",
          "iopub.status.idle": "2025-02-01T13:52:30.397024Z",
          "shell.execute_reply": "2025-02-01T13:52:30.395751Z",
          "shell.execute_reply.started": "2025-02-01T13:52:30.377523Z"
        },
        "trusted": true,
        "id": "ChgS65MS8XKN",
        "outputId": "404b19ce-76e9-4938-f6c4-8937b24a807f",
        "colab": {
          "base_uri": "https://localhost:8080/"
        }
      },
      "outputs": [
        {
          "output_type": "stream",
          "name": "stdout",
          "text": [
            "torch.float32\n",
            "torch.float16\n"
          ]
        }
      ],
      "source": [
        "import torch\n",
        "\n",
        "# Create a float32 tensor\n",
        "x = torch.tensor([1.2, 2.3, 3.4], dtype=torch.float32)\n",
        "print(x.dtype)  # Output: torch.float32\n",
        "\n",
        "# Convert to float16\n",
        "x_half = x.to(torch.float16)\n",
        "print(x_half.dtype)  # Output: torch.float16"
      ]
    },
    {
      "cell_type": "markdown",
      "metadata": {
        "id": "MTY9yGAV8XKO"
      },
      "source": [
        "### ✅ **Move Tensors to GPU (if available)**\n",
        "Use `.to(device)` to move a tensor to GPU for faster computation.\n",
        "\n",
        "**GPUs are faster and more efficient** in most cases when training or inferencing deep learning models.  \n"
      ]
    },
    {
      "cell_type": "code",
      "execution_count": null,
      "metadata": {
        "execution": {
          "iopub.execute_input": "2025-02-01T13:52:30.399777Z",
          "iopub.status.busy": "2025-02-01T13:52:30.399396Z",
          "iopub.status.idle": "2025-02-01T13:52:30.410675Z",
          "shell.execute_reply": "2025-02-01T13:52:30.409468Z",
          "shell.execute_reply.started": "2025-02-01T13:52:30.399747Z"
        },
        "trusted": true,
        "id": "Zco-EfQn8XKO",
        "outputId": "071ec263-fd5e-4063-81f0-ee769a211743",
        "colab": {
          "base_uri": "https://localhost:8080/"
        }
      },
      "outputs": [
        {
          "output_type": "stream",
          "name": "stdout",
          "text": [
            "cpu\n"
          ]
        }
      ],
      "source": [
        "# Automatically select CPU or GPU\n",
        "device = torch.device(\"cuda\" if torch.cuda.is_available() else \"cpu\")\n",
        "\n",
        "# Create a tensor and move it to GPU\n",
        "x_gpu = x.to(device)\n",
        "print(x_gpu.device)  # Output: cuda:0 (if GPU is available) or cpu"
      ]
    },
    {
      "cell_type": "markdown",
      "metadata": {
        "id": "prZA89se8XKP"
      },
      "source": [
        "Note: When training a model, always move BOTH the model and data to the same device. Otherwise, you will get an error like this:\n",
        "\n",
        "`RuntimeError: Expected all tensors to be on the same device, but found at least two devices, cuda:0 and cpu!`"
      ]
    },
    {
      "cell_type": "markdown",
      "metadata": {
        "id": "BdtWKpLP8XKP"
      },
      "source": [
        "### 🧠 AI Layers\n",
        "\n",
        "PyTorch provides various **neural network layers** to build deep learning models. Below are some of the most commonly used layers.\n",
        "\n",
        "---\n",
        "\n",
        "## 🔹 1️⃣ Linear Layer (`nn.Linear`)\n",
        "\n",
        "### 📌 **Usage**\n",
        "1. Used for **fully connected layers** (Dense layers).\n",
        "2. Typically used as the **final layer** in CNNs for classification."
      ]
    },
    {
      "cell_type": "code",
      "execution_count": null,
      "metadata": {
        "execution": {
          "iopub.execute_input": "2025-02-01T13:52:30.412554Z",
          "iopub.status.busy": "2025-02-01T13:52:30.412185Z",
          "iopub.status.idle": "2025-02-01T13:52:30.463528Z",
          "shell.execute_reply": "2025-02-01T13:52:30.462470Z",
          "shell.execute_reply.started": "2025-02-01T13:52:30.412518Z"
        },
        "trusted": true,
        "id": "IeT7XQK28XKQ",
        "outputId": "24647db2-b1b8-4fcc-db82-7c3c5a7454df"
      },
      "outputs": [
        {
          "name": "stdout",
          "output_type": "stream",
          "text": [
            "Input Shape: torch.Size([16, 5])\n",
            "Output Shape: torch.Size([16, 3])\n"
          ]
        }
      ],
      "source": [
        "# Example\n",
        "\n",
        "import torch\n",
        "import torch.nn as nn\n",
        "\n",
        "# Define a Linear layer\n",
        "linear_layer = nn.Linear(in_features=5, out_features=3) #MY NOTE: 3 outputs means multiclassificaton\n",
        "\n",
        "# Random input tensor (batch_size=16, in_features=5)\n",
        "x = torch.randn(16, 5) # MY NOTE: (rows,columns)\n",
        "\n",
        "# Forward pass\n",
        "output = linear_layer(x)\n",
        "\n",
        "print(\"Input Shape:\", x.shape)       # (16, 5)\n",
        "print(\"Output Shape:\", output.shape)  # (16, 3)"
      ]
    },
    {
      "cell_type": "markdown",
      "metadata": {
        "id": "SPMMWJZT8XKQ"
      },
      "source": [
        "## 🔹 2️⃣ Convolutional Layer (`nn.Conv2d`)\n",
        "\n",
        "\n",
        "###  📌 **Usage**\n",
        "✅ `nn.Conv2d` is used for **feature extraction** in images ONLY THEY DONT DO CLASSIFICATION.  \n",
        "🚫 It **does not perform classification or regression**—you need a `nn.Linear` layer for that.  \n"
      ]
    },
    {
      "cell_type": "code",
      "execution_count": null,
      "metadata": {
        "execution": {
          "iopub.execute_input": "2025-02-01T13:52:30.465080Z",
          "iopub.status.busy": "2025-02-01T13:52:30.464719Z",
          "iopub.status.idle": "2025-02-01T13:52:30.547569Z",
          "shell.execute_reply": "2025-02-01T13:52:30.546561Z",
          "shell.execute_reply.started": "2025-02-01T13:52:30.465047Z"
        },
        "trusted": true,
        "id": "N1GuZXSO8XKQ",
        "outputId": "2c9e0f1f-0963-4475-dacd-ed8ed757f039",
        "colab": {
          "base_uri": "https://localhost:8080/"
        }
      },
      "outputs": [
        {
          "output_type": "stream",
          "name": "stdout",
          "text": [
            "Input Shape: torch.Size([16, 3, 32, 32])\n",
            "Output Shape: torch.Size([16, 16, 30, 30])\n"
          ]
        }
      ],
      "source": [
        "# Example\n",
        "\n",
        "import torch\n",
        "import torch.nn as nn\n",
        "\n",
        "# Define a Conv2D layer\n",
        "conv_layer = nn.Conv2d(in_channels=3, out_channels=16, kernel_size=3) # MY NOTE: we only define the channels not the features\n",
        "\n",
        "# Random input tensor (batch_size=16, channels=3, height=32, width=32)\n",
        "x = torch.randn(16, 3, 32, 32)\n",
        "\n",
        "# Forward pass\n",
        "output = conv_layer(x)\n",
        "\n",
        "print(\"Input Shape:\", x.shape)       # (16, 3, 32, 32)\n",
        "print(\"Output Shape:\", output.shape)  # (16, 16, 30, 30) # my note: (batch size \" remain the same\", out channels , hight, width)\n"
      ]
    },
    {
      "cell_type": "markdown",
      "metadata": {
        "id": "kW9HQuH88XKR"
      },
      "source": [
        "# **📌 Important Note**\n",
        "When you use **Convolutional layers (`nn.Conv2d`)**, the **output channels tend to be larger** than the input channels (unlike `nn.Linear`).  \n",
        "\n",
        "### **Why?**\n",
        "- Each convolutional layer **extracts more useful features** from the input.\n",
        "- As more filters are applied, the **number of channels increases**.\n",
        "- Meanwhile, **spatial size (height & width) decreases**.\n",
        "\n",
        "✅ **This allows the model to capture richer features while reducing unnecessary spatial details.**\n"
      ]
    },
    {
      "cell_type": "markdown",
      "metadata": {
        "id": "zXCSYdVf8XKR"
      },
      "source": [
        "The **output image size** after a convolutional layer is calculated using the formula (or you can get it by trial-and-error):"
      ]
    },
    {
      "cell_type": "markdown",
      "metadata": {
        "id": "Ir-nUTmD8XKS"
      },
      "source": [
        "![image.png](https://i.imgur.com/8XKBFBU.jpeg)"
      ]
    },
    {
      "cell_type": "markdown",
      "metadata": {
        "id": "cqYnfIHI8XKS"
      },
      "source": [
        "## 🔹 3️⃣ Pooling (`nn.MaxPool2d` / `nn.AvgPool2d`)**\n",
        "\n",
        "###  📌 **Usage**\n",
        "- **Reduces spatial dimensions** (height & width) while retaining important features ' DOWN SAMPLING.\n",
        "- Typically used **after Conv2D layers** to downsample feature maps."
      ]
    },
    {
      "cell_type": "code",
      "execution_count": null,
      "metadata": {
        "execution": {
          "iopub.execute_input": "2025-02-01T13:52:30.548925Z",
          "iopub.status.busy": "2025-02-01T13:52:30.548526Z",
          "iopub.status.idle": "2025-02-01T13:52:30.569245Z",
          "shell.execute_reply": "2025-02-01T13:52:30.568050Z",
          "shell.execute_reply.started": "2025-02-01T13:52:30.548885Z"
        },
        "trusted": true,
        "id": "Kn8FDP3i8XKS",
        "outputId": "d6fa71ce-3e50-438d-969a-5dcf03717eee",
        "colab": {
          "base_uri": "https://localhost:8080/"
        }
      },
      "outputs": [
        {
          "output_type": "stream",
          "name": "stdout",
          "text": [
            "After Conv2D: torch.Size([2, 16, 32, 32])\n",
            "After ReLU: torch.Size([2, 16, 32, 32])\n",
            "After Pooling: torch.Size([2, 16, 16, 16])\n"
          ]
        }
      ],
      "source": [
        "import torch\n",
        "import torch.nn as nn\n",
        "\n",
        "# Define layers\n",
        "conv = nn.Conv2d(in_channels=3, out_channels=16, kernel_size=3, stride=1, padding=1) #MY NOTE: by defult padding is 0 and stride is 1\n",
        "relu = nn.ReLU()    ## An old friend ;)     Do you remember why do we need it here? MY NOTE: to add nonlinearity, we dont count it as a layer\n",
        "pool = nn.MaxPool2d(kernel_size=2, stride=2)\n",
        "\n",
        "# Sample input tensor (batch_size=2, channels=3, height=32, width=32)\n",
        "x = torch.randn(2, 3, 32, 32)\n",
        "\n",
        "# 🔹 Step 1: Convolution\n",
        "x = conv(x)\n",
        "print(\"After Conv2D:\", x.shape)  # (2, 16, 32, 32) # MY NOTE: the shape is the same as the ouput becuse we added padding\n",
        "\n",
        "# 🔹 Step 2: ReLU Activation\n",
        "x = relu(x)\n",
        "print(\"After ReLU:\", x.shape)  # (2, 16, 32, 32)\n",
        "\n",
        "# 🔹 Step 3: Pooling (Reduces spatial size)\n",
        "x = pool(x)\n",
        "print(\"After Pooling:\", x.shape)  # (2, 16, 16, 16) # MY NOTE: in pooling the image hight and width will change"
      ]
    },
    {
      "cell_type": "markdown",
      "metadata": {
        "id": "1ABwnakk8XKS"
      },
      "source": [
        "### **But wait a minute, if Conv2D extracts the features only, how should we do the classification/regression? 🤔**\n",
        "\n",
        "Conv2D layers are responsible for extracting features (edges, textures, patterns, etc.) from the input data, but they **do not perform classification or regression directly**.  \n",
        "\n",
        "To classify or predict, we need to **map the extracted features** to the desired output using **fully connected layers (`nn.Linear`)** after flattening the feature maps.\n",
        "\n",
        "---\n",
        "\n",
        "### **🏗️ CNN Structure Example**\n",
        "A typical CNN model for classification or regression follows this pattern:\n",
        "\n",
        "1️⃣ **`nn.Conv2d`** → Extracts features .  \n",
        "2️⃣ **`nn.MaxPool2d`** → Reduces feature map size to focus on important information.  \n",
        "3️⃣ **`nn.Conv2d`** → Extracts more features.  \n",
        "\n",
        "... Add more layers if you want\n",
        "\n",
        "4️⃣ **Flatten & `nn.Linear`** → Maps extracted features to output classes or predictions.\n"
      ]
    },
    {
      "cell_type": "markdown",
      "metadata": {
        "id": "Xtk2ifxS8XKT"
      },
      "source": [
        "![image.png](https://i.imgur.com/fwNdXJs.jpeg)"
      ]
    },
    {
      "cell_type": "markdown",
      "metadata": {
        "id": "Yp0QE9Wh8XKT"
      },
      "source": [
        "\n",
        "---\n",
        "\n",
        "### **🔹 Example: Classification with CNN**\n",
        "| **Layer**                  | **Purpose**                        | **Example Shape Transformation** |\n",
        "|----------------------------|-------------------------------------|-----------------------------------|\n",
        "| **Input Image**            | Raw input                          | `(batch_size, channels, height, width)` |\n",
        "| **`nn.Conv2d`**            | Extract features                   | `(32, 3, 32, 32) → (32, 16, 30, 30)` |\n",
        "| **`nn.MaxPool2d`**         | Downsample feature maps            | `(32, 16, 30, 30) → (32, 16, 15, 15)` |\n",
        "| **`nn.Conv2d`**            | Extract more features              | `(32, 16, 15, 15) → (32, 32, 13, 13)` |\n",
        "| **Flatten**                | Prepare for fully connected layers | `(32, 32, 13, 13) → (32, 32*13*13)` |\n",
        "| **`nn.Linear`**            | Map features to classes/predictions| `(32, 32*13*13) → (32, 10)` (for 10 classes) |\n",
        "\n",
        "\n"
      ]
    },
    {
      "cell_type": "code",
      "execution_count": null,
      "metadata": {
        "execution": {
          "iopub.execute_input": "2025-02-01T13:52:30.571030Z",
          "iopub.status.busy": "2025-02-01T13:52:30.570501Z",
          "iopub.status.idle": "2025-02-01T13:52:30.631073Z",
          "shell.execute_reply": "2025-02-01T13:52:30.629954Z",
          "shell.execute_reply.started": "2025-02-01T13:52:30.570988Z"
        },
        "trusted": true,
        "id": "HwHLWpFr8XKT",
        "outputId": "b9931c45-10d4-419b-9ff0-8240b304a465",
        "colab": {
          "base_uri": "https://localhost:8080/"
        }
      },
      "outputs": [
        {
          "output_type": "stream",
          "name": "stdout",
          "text": [
            "After Conv2D: torch.Size([2, 16, 30, 30])\n",
            "After ReLU: torch.Size([2, 16, 30, 30])\n",
            "After Pooling: torch.Size([2, 16, 15, 15])\n",
            "After Flatten: torch.Size([2, 3600])\n",
            "After Linear (Logits): torch.Size([2, 10])\n",
            "After Softmax (Probabilities): tensor([0.1637, 0.1014, 0.1080, 0.0582, 0.0603, 0.0880, 0.2078, 0.0795, 0.0390,\n",
            "        0.0940], grad_fn=<SelectBackward0>)\n"
          ]
        }
      ],
      "source": [
        "import torch\n",
        "import torch.nn as nn\n",
        "\n",
        "# Define layers\n",
        "conv = nn.Conv2d(in_channels=3, out_channels=16, kernel_size=3)  # Conv2D layer\n",
        "relu = nn.ReLU()  # Activation function\n",
        "pool = nn.MaxPool2d(kernel_size=2)  # Pooling layer\n",
        "flatten = nn.Flatten()  # Flatten layer to prepare for Linear\n",
        "linear = nn.Linear(16 * 15 * 15, 10)  # Fully connected layer for classification (10 classes) MY NOTE: rather than using the equation to calculate the size i can write a random number, an error will appear which will note the right number\n",
        "softmax = nn.Softmax(dim=1)  # ## Another old friend ;)\n",
        "\n",
        "# Sample input tensor (batch_size=2, channels=3, height=32, width=32)\n",
        "x = torch.randn(2, 3, 32, 32)\n",
        "\n",
        "# 🔹 Step 1: Convolution\n",
        "x = conv(x)\n",
        "print(\"After Conv2D:\", x.shape)  # (2, 16, 30, 30)\n",
        "\n",
        "# 🔹 Step 2: ReLU Activation\n",
        "x = relu(x)\n",
        "print(\"After ReLU:\", x.shape)  # (2, 16, 30, 30)\n",
        "\n",
        "# 🔹 Step 3: Pooling (Reduces spatial size)\n",
        "x = pool(x)\n",
        "print(\"After Pooling:\", x.shape)  # (2, 16, 15, 15)\n",
        "\n",
        "# 🔹 Step 4: Flatten (Convert to batch_size, features)\n",
        "x = flatten(x)\n",
        "print(\"After Flatten:\", x.shape)  # (2, 16*15*15)\n",
        "\n",
        "# 🔹 Step 5: Fully Connected Layer\n",
        "x = linear(x)\n",
        "print(\"After Linear (Logits):\", x.shape)  # (2, 10) → 10 values, one per class\n",
        "\n",
        "# 🔹 Step 6: Softmax (Convert logits to probabilities)\n",
        "x = softmax(x)\n",
        "print(\"After Softmax (Probabilities):\", x[0])  # Probabilities for each class\n"
      ]
    },
    {
      "cell_type": "markdown",
      "metadata": {
        "id": "zxvBi1hh8XKU"
      },
      "source": [
        "# **Great! Now you know how to build a CNN model!**\n",
        "\n",
        "However, PyTorch has a specific structure to organize your workflow.\n",
        "\n",
        "---\n",
        "\n",
        "## **📌 PyTorch Workflow Organization**\n",
        "\n",
        "### **It consists of 4 main components:**\n",
        "1️⃣ **Dataset Class**  \n",
        "- Handles loading and preprocessing data.  \n",
        "- Converts raw data (e.g., images, CSVs) into model-ready tensors.  \n",
        "\n",
        "2️⃣ **Model Class**  \n",
        "- Defines the architecture of your neural network (e.g., layers, activations).  \n",
        "\n",
        "3️⃣ **Training Loop**  \n",
        "- Updates model weights using backpropagation and optimizers.  \n",
        "- Computes the loss for every batch and adjusts the parameters to minimize it.  \n",
        "\n",
        "4️⃣ **Validation Loop**  \n",
        "- Evaluates the model's performance on a validation set.  \n",
        "- Does not update weights but computes metrics like accuracy or loss.  \n",
        "\n",
        "---\n",
        "\n",
        "### **📌 Note:**\n",
        "All the labs will follow this structure. You will just modify the content for different tasks, such as changing datasets, architectures, or loss functions."
      ]
    },
    {
      "cell_type": "markdown",
      "metadata": {
        "id": "hx2DmZbb8XKU"
      },
      "source": [
        "# **📌 Dataset Class**\n",
        "\n",
        "- The **Dataset Class** is designed to **load and preprocess only one sample** at a time.\n",
        "- The **DataLoader** uses the Dataset Class to load **multiple samples (batches)**."
      ]
    },
    {
      "cell_type": "markdown",
      "metadata": {
        "id": "jji07bXe8XKU"
      },
      "source": [
        "## **1️⃣ It Could Be Ready-to-Use:**"
      ]
    },
    {
      "cell_type": "code",
      "execution_count": null,
      "metadata": {
        "trusted": true,
        "id": "VxMN5HNk8XKV"
      },
      "outputs": [],
      "source": [
        "from torchvision.datasets import MNIST\n",
        "\n",
        "train_dataset = MNIST(root=\"./data\", train=True, download=True)\n",
        "test_dataset = MNIST(root=\"./data\", train=False, download=True)\n",
        "\n",
        "# OR\n",
        "\n",
        "\n",
        "from torchvision.datasets import CIFAR10\n",
        "\n",
        "train_dataset = CIFAR10(root=\"./data\", train=True, download=True)\n",
        "test_dataset = CIFAR10(root=\"./data\", train=False, download=True)"
      ]
    },
    {
      "cell_type": "markdown",
      "metadata": {
        "id": "8Jb2eiil8XKV"
      },
      "source": [
        "## **2️⃣ Or You Have to Define It Yourself (We will explore how to define it in another lab).**"
      ]
    },
    {
      "cell_type": "markdown",
      "metadata": {
        "id": "q_vcoskm8XKV"
      },
      "source": [
        "# **📌 Model Class**\n",
        "---\n",
        "\n",
        "## **📌 Key Components:**\n",
        "1️⃣ **Define Layers (`__init__` method):**  \n",
        "- Use PyTorch modules (e.g., `nn.Conv2d`, `nn.Linear`) to create the model's architecture.  \n",
        "\n",
        "2️⃣ **Forward Pass (`forward` method):**  \n",
        "- Specify how the input should be fed through the layers step by step.  \n",
        "\n",
        "---"
      ]
    },
    {
      "cell_type": "markdown",
      "metadata": {
        "id": "FyOeb3r38XKV"
      },
      "source": [
        "## **1️⃣ You may define It Yourself:**"
      ]
    },
    {
      "cell_type": "code",
      "execution_count": null,
      "metadata": {
        "execution": {
          "iopub.execute_input": "2025-02-01T13:52:45.676080Z",
          "iopub.status.busy": "2025-02-01T13:52:45.675543Z",
          "iopub.status.idle": "2025-02-01T13:52:45.683583Z",
          "shell.execute_reply": "2025-02-01T13:52:45.682535Z",
          "shell.execute_reply.started": "2025-02-01T13:52:45.676041Z"
        },
        "trusted": true,
        "id": "f2ocnsgh8XKV"
      },
      "outputs": [],
      "source": [
        "import torch\n",
        "import torch.nn as nn\n",
        "\n",
        "class CustomModel(nn.Module):\n",
        "    def __init__(self): #MY_NOTE: here we define the layers\n",
        "        \"\"\"\n",
        "        1️⃣ Define all layers in the model.\n",
        "        \"\"\"\n",
        "        super(CustomModel, self).__init__()\n",
        "\n",
        "        # Convolutional Layer + Activation + Pooling\n",
        "        self.conv1 = nn.Conv2d(in_channels=3, out_channels=16, kernel_size=3, stride=1, padding=1)\n",
        "        self.relu = nn.ReLU()\n",
        "        self.pool = nn.MaxPool2d(kernel_size=2, stride=2)\n",
        "\n",
        "        # Fully Connected Layer\n",
        "        self.fc = nn.Linear(16 * 16 * 16, 10)  # Output 10 classes\n",
        "\n",
        "        # Softmax Layer\n",
        "        self.softmax = nn.Softmax(dim=1)  # Apply along the class dimension\n",
        "\n",
        "    def forward(self, x):\n",
        "        \"\"\"\n",
        "        2️⃣ Define the forward pass (how data flows through the model).\n",
        "        \"\"\"\n",
        "        x = self.conv1(x)  # Convolution\n",
        "        x = self.relu(x)  # Activation\n",
        "        x = self.pool(x)  # Pooling\n",
        "        x = torch.flatten(x, start_dim=1)  # Flatten for FC layer\n",
        "        x = self.fc(x)  # Fully connected layer\n",
        "        x = self.softmax(x)  # Convert logits to probabilities\n",
        "        return x  # Returns probability distribution\n"
      ]
    },
    {
      "cell_type": "markdown",
      "metadata": {
        "id": "qZw0KtTE8XKW"
      },
      "source": [
        "###\n",
        "## **2️⃣ Or It Could Be Given Ready-to-Use (Will explore in another lab):**"
      ]
    },
    {
      "cell_type": "code",
      "execution_count": null,
      "metadata": {
        "trusted": true,
        "id": "tvbOlBVK8XKW"
      },
      "outputs": [],
      "source": [
        "# Example\n",
        "import torchvision.models as models\n",
        "model = models.resnet18(pretrained=True)"
      ]
    },
    {
      "cell_type": "markdown",
      "metadata": {
        "id": "tVvuJJ1o8XKW"
      },
      "source": [
        "# **📌 Training Loop**\n",
        "\n",
        "## **What is the Training Loop?**\n",
        "The **training loop** is responsible for **updating the model's weights** so that it learns to minimize the loss function.\n"
      ]
    },
    {
      "cell_type": "code",
      "execution_count": null,
      "metadata": {
        "execution": {
          "iopub.execute_input": "2025-02-01T13:52:46.279176Z",
          "iopub.status.busy": "2025-02-01T13:52:46.278877Z",
          "iopub.status.idle": "2025-02-01T13:52:46.284659Z",
          "shell.execute_reply": "2025-02-01T13:52:46.283750Z",
          "shell.execute_reply.started": "2025-02-01T13:52:46.279148Z"
        },
        "trusted": true,
        "id": "772MCCv_8XKX"
      },
      "outputs": [],
      "source": [
        "def train_one_epoch(model, dataloader, criterion, optimizer, device):\n",
        "    model.train()  # Set model to training mode, you will understand why later #MY NOTE: so we update the wights\n",
        "    total_loss = 0\n",
        "\n",
        "    for images, labels in dataloader:\n",
        "        images, labels = images.to(device), labels.to(device)  # Move data to GPU if available\n",
        "\n",
        "\n",
        "        outputs = model(images)  # Forward pass\n",
        "        loss = criterion(outputs, labels)  # Compute loss\n",
        "\n",
        "\n",
        "        optimizer.zero_grad()  # Reset gradients\n",
        "        loss.backward()  # Backpropagation (compute gradients)     #MY NOTE: these 3 lines update the weight\n",
        "        optimizer.step()  # Update model parameters\n",
        "\n",
        "        # Collect the loss\n",
        "        total_loss += loss.item()\n",
        "\n",
        "    return total_loss / len(dataloader)  # Return average loss\n"
      ]
    },
    {
      "cell_type": "markdown",
      "metadata": {
        "id": "kGxUlZLB8XKX"
      },
      "source": [
        "# **📌 Validation Loop**\n",
        "\n",
        "## **What is the Validation Loop?**\n",
        "- The **validation loop** is used to **evaluate model performance** on unseen data.  \n",
        "- Unlike the training loop, **it does NOT update the model’s weights**.  \n",
        "- It helps track **loss and accuracy** to monitor model improvements."
      ]
    },
    {
      "cell_type": "code",
      "execution_count": null,
      "metadata": {
        "execution": {
          "iopub.execute_input": "2025-02-01T13:52:46.286262Z",
          "iopub.status.busy": "2025-02-01T13:52:46.285804Z",
          "iopub.status.idle": "2025-02-01T13:52:46.304261Z",
          "shell.execute_reply": "2025-02-01T13:52:46.303139Z",
          "shell.execute_reply.started": "2025-02-01T13:52:46.286150Z"
        },
        "trusted": true,
        "id": "Abr_j21S8XKX"
      },
      "outputs": [],
      "source": [
        "def validate(model, dataloader, criterion, device): #MY NOTE: same as training function but without weghits update\n",
        "    model.eval()  # Set model to evaluation mode, you will understand why later\n",
        "    total_loss = 0\n",
        "    correct = 0\n",
        "    total = 0\n",
        "\n",
        "    with torch.no_grad():  # Disable gradient calculation\n",
        "        for images, labels in dataloader:\n",
        "            images, labels = images.to(device), labels.to(device)\n",
        "\n",
        "            outputs = model(images)  # Forward pass\n",
        "            loss = criterion(outputs, labels)  # Compute loss\n",
        "            total_loss += loss.item()\n",
        "\n",
        "            # (Optional) Compute accuracy\n",
        "            predictions = outputs.argmax(dim=1)  # Get class with highest probability\n",
        "            correct += (predictions == labels).sum().item()\n",
        "            total += labels.size(0)\n",
        "\n",
        "    avg_loss = total_loss / len(dataloader)\n",
        "    accuracy = 100 * correct / total  # Compute accuracy in percentage\n",
        "    return avg_loss, accuracy\n"
      ]
    },
    {
      "cell_type": "markdown",
      "metadata": {
        "id": "fMFjF5o58XKX"
      },
      "source": [
        "# **📌 Full Training Process in PyTorch**\n",
        "\n",
        "Now that you understand the **Dataset Class, Model Class, Training Loop, and Validation Loop**, it's time to put everything together into a **full training process**.\n"
      ]
    },
    {
      "cell_type": "code",
      "execution_count": null,
      "metadata": {
        "execution": {
          "iopub.execute_input": "2025-02-01T13:52:46.305727Z",
          "iopub.status.busy": "2025-02-01T13:52:46.305338Z",
          "iopub.status.idle": "2025-02-01T13:54:13.696582Z",
          "shell.execute_reply": "2025-02-01T13:54:13.695558Z",
          "shell.execute_reply.started": "2025-02-01T13:52:46.305698Z"
        },
        "trusted": true,
        "id": "Wq9j0UE48XKY",
        "outputId": "a9d976dc-5ce4-4adf-bf0e-e86f9dd8d258"
      },
      "outputs": [
        {
          "name": "stdout",
          "output_type": "stream",
          "text": [
            "Epoch 1: Validation Accuracy = 95.12%\n",
            "Epoch 2: Validation Accuracy = 96.73%\n",
            "Epoch 3: Validation Accuracy = 97.17%\n",
            "Epoch 4: Validation Accuracy = 97.51%\n",
            "Epoch 5: Validation Accuracy = 97.66%\n"
          ]
        }
      ],
      "source": [
        "import torch\n",
        "import torch.nn as nn\n",
        "import torch.optim as optim\n",
        "from torch.utils.data import DataLoader, Dataset\n",
        "import torchvision.transforms as transforms\n",
        "from torchvision.datasets import MNIST\n",
        "\n",
        "# 🔹 Load MNIST Dataset\n",
        "transform = transforms.ToTensor()\n",
        "train_dataset = MNIST(root=\"./data\", train=True, transform=transform, download=True)\n",
        "test_dataset = MNIST(root=\"./data\", train=False, transform=transform, download=True)\n",
        "\n",
        "train_loader = DataLoader(train_dataset, batch_size=64, shuffle=True) #MY NOTE: if i faced the \"out of memory problem\" it means the batch size is big\n",
        "test_loader = DataLoader(test_dataset, batch_size=64, shuffle=False)\n",
        "\n",
        "\n",
        "\n",
        "# Model\n",
        "class CustomModel(nn.Module):\n",
        "    def __init__(self):\n",
        "        \"\"\"\n",
        "        1️⃣ Define all layers in the model.\n",
        "        \"\"\"\n",
        "        super(CustomModel, self).__init__()\n",
        "\n",
        "        # Convolutional Layer + Activation + Pooling\n",
        "        self.conv1 = nn.Conv2d(in_channels=1, out_channels=16, kernel_size=3, stride=1, padding=1)\n",
        "        self.relu = nn.ReLU()\n",
        "        self.pool = nn.MaxPool2d(kernel_size=2, stride=2)\n",
        "\n",
        "        # Fully Connected Layer\n",
        "        self.fc = nn.Linear(16 * 14 * 14, 10)  # Output 10 classes\n",
        "\n",
        "        # Softmax Layer\n",
        "        self.softmax = nn.Softmax(dim=1)  # Apply along the class dimension\n",
        "\n",
        "    def forward(self, x):\n",
        "        \"\"\"\n",
        "        2️⃣ Define the forward pass (how data flows through the model).\n",
        "        \"\"\"\n",
        "        x = self.conv1(x)  # Convolution\n",
        "        x = self.relu(x)  # Activation\n",
        "        x = self.pool(x)  # Pooling\n",
        "        x = torch.flatten(x, start_dim=1)  # Flatten for FC layer\n",
        "        x = self.fc(x)  # Fully connected layer\n",
        "        x = self.softmax(x)  # Convert logits to probabilities\n",
        "        return x  # Returns probability distribution\n",
        "\n",
        "\n",
        "\n",
        "# Training and Validation Loops\n",
        "def train_one_epoch(model, dataloader, criterion, optimizer, device):\n",
        "    model.train()\n",
        "    for images, labels in dataloader:\n",
        "        images, labels = images.to(device), labels.to(device)\n",
        "        optimizer.zero_grad()\n",
        "        loss = criterion(model(images), labels)\n",
        "        loss.backward()\n",
        "        optimizer.step()\n",
        "\n",
        "def validate(model, dataloader, criterion, device):\n",
        "    model.eval()\n",
        "    correct, total = 0, 0\n",
        "    with torch.no_grad():\n",
        "        for images, labels in dataloader:\n",
        "            images, labels = images.to(device), labels.to(device)\n",
        "            outputs = model(images)\n",
        "            correct += (outputs.argmax(dim=1) == labels).sum().item()\n",
        "            total += labels.size(0)\n",
        "    return 100 * correct / total  # Return accuracy\n",
        "\n",
        "\n",
        "\n",
        "\n",
        "# Run Training\n",
        "model = CustomModel() #MY NOTE: we intilize the model here\n",
        "device = torch.device(\"cuda\" if torch.cuda.is_available() else \"cpu\") #MY NOTE: the model should be in the same place as the data and the labels\n",
        "model.to(device)\n",
        "\n",
        "criterion = nn.CrossEntropyLoss()\n",
        "optimizer = optim.Adam(model.parameters(), lr=0.001)\n",
        "\n",
        "for epoch in range(5):  # Train for 5 epochs\n",
        "    train_one_epoch(model, train_loader, criterion, optimizer, device)\n",
        "    accuracy = validate(model, test_loader, criterion, device)\n",
        "    print(f\"Epoch {epoch+1}: Validation Accuracy = {accuracy:.2f}%\")\n"
      ]
    },
    {
      "cell_type": "markdown",
      "metadata": {
        "id": "QDokarY_8XKg"
      },
      "source": [
        "![image.png](https://i.imgur.com/1xbDOQX.jpeg)"
      ]
    },
    {
      "cell_type": "markdown",
      "metadata": {
        "id": "Wc07yFlF8XKg"
      },
      "source": [
        "### Contributed by: Mohamed Eltayeb\n"
      ]
    },
    {
      "cell_type": "markdown",
      "metadata": {
        "id": "wKlgR-ET8XKh"
      },
      "source": []
    }
  ],
  "metadata": {
    "kaggle": {
      "accelerator": "none",
      "dataSources": [],
      "dockerImageVersionId": 30839,
      "isGpuEnabled": false,
      "isInternetEnabled": true,
      "language": "python",
      "sourceType": "notebook"
    },
    "kernelspec": {
      "display_name": "Python 3",
      "name": "python3"
    },
    "language_info": {
      "codemirror_mode": {
        "name": "ipython",
        "version": 3
      },
      "file_extension": ".py",
      "mimetype": "text/x-python",
      "name": "python",
      "nbconvert_exporter": "python",
      "pygments_lexer": "ipython3",
      "version": "3.10.12"
    },
    "colab": {
      "provenance": [],
      "machine_shape": "hm",
      "include_colab_link": true
    }
  },
  "nbformat": 4,
  "nbformat_minor": 0
}